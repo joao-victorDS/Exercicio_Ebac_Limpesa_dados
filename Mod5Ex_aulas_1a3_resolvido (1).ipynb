{
 "cells": [
  {
   "cell_type": "code",
   "execution_count": 1,
   "id": "0d29683d",
   "metadata": {},
   "outputs": [
    {
     "name": "stdout",
     "output_type": "stream",
     "text": [
      "(27028, 69)\n"
     ]
    },
    {
     "data": {
      "text/plain": [
       "(27028, 69)"
      ]
     },
     "execution_count": 1,
     "metadata": {},
     "output_type": "execute_result"
    }
   ],
   "source": [
    "import pandas as pd\n",
    "import requests\n",
    "\n",
    "# 1) seu código aqui\n",
    "sinasc = pd.read_csv('SINASC_RO_2019.csv')\n",
    "print(sinasc.shape)\n",
    "sinasc.drop_duplicates().shape\n",
    "# Não há duplicados"
   ]
  },
  {
   "cell_type": "code",
   "execution_count": 2,
   "id": "d369a20a",
   "metadata": {},
   "outputs": [
    {
     "data": {
      "text/plain": [
       "ORIGEM          0\n",
       "CODESTAB      115\n",
       "CODMUNNASC      0\n",
       "LOCNASC         0\n",
       "IDADEMAE        0\n",
       "             ... \n",
       "munResUf        0\n",
       "munResLat       1\n",
       "munResLon       1\n",
       "munResAlt       1\n",
       "munResArea      1\n",
       "Length: 69, dtype: int64"
      ]
     },
     "execution_count": 2,
     "metadata": {},
     "output_type": "execute_result"
    }
   ],
   "source": [
    "# 2) seu código aqui\n",
    "\n",
    "\n",
    "# Contando os valores missings com o metodo sum()\n",
    "\n",
    "sinasc.isnull().sum()"
   ]
  },
  {
   "cell_type": "code",
   "execution_count": 3,
   "id": "98c1edeb",
   "metadata": {},
   "outputs": [
    {
     "data": {
      "text/plain": [
       "LOCNASC          0\n",
       "IDADEMAE         0\n",
       "ESTCIVMAE      317\n",
       "ESCMAE         312\n",
       "QTDFILVIVO    1573\n",
       "QTDFILMORT    2098\n",
       "GESTACAO      1232\n",
       "GRAVIDEZ        79\n",
       "CONSULTAS        0\n",
       "APGAR5         103\n",
       "dtype: int64"
      ]
     },
     "execution_count": 3,
     "metadata": {},
     "output_type": "execute_result"
    }
   ],
   "source": [
    "# 3) seu código aqui\n",
    "\n",
    "# Filtrando as colunas de interesse e salvando-as no mesmo dataframe\n",
    "\n",
    "sinasc = sinasc[['LOCNASC', 'IDADEMAE', 'ESTCIVMAE', 'ESCMAE', 'QTDFILVIVO', 'QTDFILMORT', 'GESTACAO', 'GRAVIDEZ', 'CONSULTAS', 'APGAR5']]\n",
    "sinasc.isnull().sum()"
   ]
  },
  {
   "cell_type": "code",
   "execution_count": 4,
   "id": "c23555e9",
   "metadata": {},
   "outputs": [
    {
     "name": "stdout",
     "output_type": "stream",
     "text": [
      "Antes de dropar os valores:\n",
      "LOCNASC          0\n",
      "IDADEMAE         0\n",
      "ESTCIVMAE      317\n",
      "ESCMAE         312\n",
      "QTDFILVIVO    1573\n",
      "QTDFILMORT    2098\n",
      "GESTACAO      1232\n",
      "GRAVIDEZ        79\n",
      "CONSULTAS        0\n",
      "APGAR5         103\n",
      "dtype: int64\n",
      "27028\n",
      "Depois de dropar os valores:\n",
      "LOCNASC          0\n",
      "IDADEMAE         0\n",
      "ESTCIVMAE      315\n",
      "ESCMAE         310\n",
      "QTDFILVIVO    1566\n",
      "QTDFILMORT    2089\n",
      "GESTACAO      1216\n",
      "GRAVIDEZ        76\n",
      "CONSULTAS        0\n",
      "APGAR5           0\n",
      "dtype: int64\n",
      "26925\n"
     ]
    }
   ],
   "source": [
    "# 4) seu código aqui\n",
    "\n",
    "# Antes dos valores dropados\n",
    "\n",
    "print(f\"Antes de dropar os valores:\\n{sinasc.isnull().sum()}\")\n",
    "print(sinasc.shape[0])\n",
    "\n",
    "# Dropando os valores nulos da variavel \"APGAR5\"\n",
    "\n",
    "sinasc.dropna(subset=\"APGAR5\", inplace=True)\n",
    "\n",
    "# Depois dos valores dropados\n",
    "\n",
    "print(f\"Depois de dropar os valores:\\n{sinasc.isnull().sum()}\")\n",
    "print(sinasc.shape[0])"
   ]
  },
  {
   "cell_type": "code",
   "execution_count": 5,
   "id": "f09c9b47",
   "metadata": {},
   "outputs": [
    {
     "name": "stdout",
     "output_type": "stream",
     "text": [
      "Antes de substituir os valores:\n",
      "315\n",
      "Depois de substituir os valores:\n",
      "0\n"
     ]
    }
   ],
   "source": [
    "# 5) seu código aqui\n",
    "\n",
    "print(f\"Antes de substituir os valores:\\n{sinasc['ESTCIVMAE'].isnull().sum()}\")\n",
    "\n",
    "# Substituindo os valores faltantes da coluna \"ESTCIVMAE\" por 9\n",
    "\n",
    "sinasc[\"ESTCIVMAE\"].fillna(value=9, inplace=True)\n",
    "\n",
    "print(f\"Depois de substituir os valores:\\n{sinasc['ESTCIVMAE'].isnull().sum()}\")"
   ]
  },
  {
   "cell_type": "code",
   "execution_count": 6,
   "id": "5ea1c515",
   "metadata": {},
   "outputs": [
    {
     "name": "stdout",
     "output_type": "stream",
     "text": [
      "Antes de substituir os valores:\n",
      "QTDFILVIVO    1566\n",
      "QTDFILMORT    2089\n",
      "dtype: int64\n",
      "Depois de substituir os valores:\n",
      "QTDFILVIVO    0\n",
      "QTDFILMORT    0\n",
      "dtype: int64\n"
     ]
    }
   ],
   "source": [
    "# 6) Seu código aqui\n",
    "\n",
    "print(f\"Antes de substituir os valores:\\n{sinasc[['QTDFILVIVO', 'QTDFILMORT']].isnull().sum()}\")\n",
    "\n",
    "# Substituindo os valores nulos por 0 nas colunas \"QTDFILVIVO\" e \"QTDFILMORT\"\n",
    "\n",
    "sinasc[\"QTDFILVIVO\"].fillna(value=0, inplace=True)\n",
    "sinasc[\"QTDFILMORT\"].fillna(value=0, inplace=True)\n",
    "\n",
    "print(f\"Depois de substituir os valores:\\n{sinasc[['QTDFILVIVO', 'QTDFILMORT']].isnull().sum()}\")"
   ]
  },
  {
   "cell_type": "markdown",
   "id": "04336b80",
   "metadata": {},
   "source": [
    "**Os dados faltantes das colunas \"GRAVIDEZ\" e \"ESCMAE\" se traduzem em uma pequena porcentagem em relação ao dadaset, porcentagem essa que se torna insignificante. Com base nisso eles foram alterados para a categoria que mais possui valores. Já a coluna \"GESTACAO\", como significa um montante um pouco maior dos dados, dela foi tirada a média das semanas e arredondado o valor a se adequar as categorias dos dados da coluna**"
   ]
  },
  {
   "cell_type": "code",
   "execution_count": 7,
   "id": "80015c81",
   "metadata": {},
   "outputs": [
    {
     "name": "stdout",
     "output_type": "stream",
     "text": [
      "0.28\n",
      "1.15\n",
      "4.52\n"
     ]
    }
   ],
   "source": [
    "# 7) seu código aqui\n",
    "\n",
    "# Calcualando a porcentagem de valores nulos sobre o dataframe nas colunas \"GRAVIDEZ\", \"ESCMAE\" e \"GESTACAO\"\n",
    "\n",
    "print(round((sinasc[\"GRAVIDEZ\"].isnull().sum()/sinasc.shape[0])*100, 2))\n",
    "print(round((sinasc[\"ESCMAE\"].isnull().sum()/sinasc.shape[0])*100, 2))\n",
    "print(round((sinasc[\"GESTACAO\"].isnull().sum()/sinasc.shape[0])*100, 2))"
   ]
  },
  {
   "cell_type": "code",
   "execution_count": 8,
   "id": "4b37f132",
   "metadata": {},
   "outputs": [],
   "source": [
    "# Substituindo os valors nulos pela categoria mais frequente da coluna\n",
    "\n",
    "sinasc[\"GRAVIDEZ\"].fillna(value=\"Única\", inplace=True)\n",
    "sinasc[\"ESCMAE\"].fillna(value=\"8 a 11 anos\", inplace=True)"
   ]
  },
  {
   "cell_type": "code",
   "execution_count": 9,
   "id": "904145ea",
   "metadata": {},
   "outputs": [
    {
     "data": {
      "text/plain": [
       "32.0"
      ]
     },
     "execution_count": 9,
     "metadata": {},
     "output_type": "execute_result"
    }
   ],
   "source": [
    "# Calculando a média das semanas\n",
    "\n",
    "round((((22+27)/2) + ((28+31)/2) + ((32+36)/2) + ((37+41)/2) + 42 + 22)/6, 0)"
   ]
  },
  {
   "cell_type": "code",
   "execution_count": 10,
   "id": "990d7465",
   "metadata": {},
   "outputs": [
    {
     "data": {
      "text/plain": [
       "LOCNASC       0\n",
       "IDADEMAE      0\n",
       "ESTCIVMAE     0\n",
       "ESCMAE        0\n",
       "QTDFILVIVO    0\n",
       "QTDFILMORT    0\n",
       "GESTACAO      0\n",
       "GRAVIDEZ      0\n",
       "CONSULTAS     0\n",
       "APGAR5        0\n",
       "dtype: int64"
      ]
     },
     "execution_count": 10,
     "metadata": {},
     "output_type": "execute_result"
    }
   ],
   "source": [
    "# Substituindo os valores nulos pela categoria da média das semanas\n",
    "\n",
    "sinasc[\"GESTACAO\"].fillna(value=\"32 a 36 semanas\", inplace=True)\n",
    "sinasc.isnull().sum()"
   ]
  },
  {
   "cell_type": "code",
   "execution_count": 11,
   "id": "e88b05b8",
   "metadata": {},
   "outputs": [],
   "source": [
    "# 8) seu código aqui\n",
    "\n",
    "# Criando uma nova coluna e suas respectivas categorias no dataframe\n",
    "\n",
    "sinasc.loc[(sinasc[\"APGAR5\"] >= 8), \"CAT_APGAR5\"] = \"normal\"\n",
    "sinasc.loc[(sinasc[\"APGAR5\"] <= 7) & (sinasc[\"APGAR5\"] >= 6), \"CAT_APGAR5\"] = \"asfixia leve\"\n",
    "sinasc.loc[(sinasc[\"APGAR5\"] <= 5) & (sinasc[\"APGAR5\"] >= 4), \"CAT_APGAR5\"] = \"asfixia moderada\"\n",
    "sinasc.loc[(sinasc[\"APGAR5\"] <= 3), \"CAT_APGAR5\"] = \"asfixia severa\""
   ]
  },
  {
   "cell_type": "code",
   "execution_count": 12,
   "id": "277dae90",
   "metadata": {},
   "outputs": [
    {
     "data": {
      "text/plain": [
       "normal              26463\n",
       "asfixia leve          320\n",
       "asfixia severa         74\n",
       "asfixia moderada       68\n",
       "Name: CAT_APGAR5, dtype: int64"
      ]
     },
     "execution_count": 12,
     "metadata": {},
     "output_type": "execute_result"
    }
   ],
   "source": [
    "sinasc[\"CAT_APGAR5\"].value_counts()"
   ]
  },
  {
   "cell_type": "code",
   "execution_count": 13,
   "id": "264a559c",
   "metadata": {},
   "outputs": [],
   "source": [
    "# 9) seu código aqui\n",
    "\n",
    "sinasc.columns = [\"local_nasc\", \"idade_mae\", \"estado_civil_mae\", \"escolaridade_mae\", \"qtd_filho_vivo\", \"qtd_filho_morto\", \"gestacao\", \"gravidez\", \"consultas\", \"apgar5\", \"cat_apgar5\"]"
   ]
  },
  {
   "cell_type": "code",
   "execution_count": 14,
   "id": "bf56c522",
   "metadata": {},
   "outputs": [
    {
     "data": {
      "text/html": [
       "<div>\n",
       "<style scoped>\n",
       "    .dataframe tbody tr th:only-of-type {\n",
       "        vertical-align: middle;\n",
       "    }\n",
       "\n",
       "    .dataframe tbody tr th {\n",
       "        vertical-align: top;\n",
       "    }\n",
       "\n",
       "    .dataframe thead th {\n",
       "        text-align: right;\n",
       "    }\n",
       "</style>\n",
       "<table border=\"1\" class=\"dataframe\">\n",
       "  <thead>\n",
       "    <tr style=\"text-align: right;\">\n",
       "      <th></th>\n",
       "      <th>local_nasc</th>\n",
       "      <th>idade_mae</th>\n",
       "      <th>estado_civil_mae</th>\n",
       "      <th>escolaridade_mae</th>\n",
       "      <th>qtd_filho_vivo</th>\n",
       "      <th>qtd_filho_morto</th>\n",
       "      <th>gestacao</th>\n",
       "      <th>gravidez</th>\n",
       "      <th>consultas</th>\n",
       "      <th>apgar5</th>\n",
       "      <th>cat_apgar5</th>\n",
       "    </tr>\n",
       "  </thead>\n",
       "  <tbody>\n",
       "    <tr>\n",
       "      <th>0</th>\n",
       "      <td>1</td>\n",
       "      <td>19</td>\n",
       "      <td>5.0</td>\n",
       "      <td>8 a 11 anos</td>\n",
       "      <td>0.0</td>\n",
       "      <td>0.0</td>\n",
       "      <td>37 a 41 semanas</td>\n",
       "      <td>Única</td>\n",
       "      <td>4</td>\n",
       "      <td>10.0</td>\n",
       "      <td>normal</td>\n",
       "    </tr>\n",
       "    <tr>\n",
       "      <th>1</th>\n",
       "      <td>1</td>\n",
       "      <td>29</td>\n",
       "      <td>2.0</td>\n",
       "      <td>8 a 11 anos</td>\n",
       "      <td>1.0</td>\n",
       "      <td>0.0</td>\n",
       "      <td>37 a 41 semanas</td>\n",
       "      <td>Única</td>\n",
       "      <td>4</td>\n",
       "      <td>9.0</td>\n",
       "      <td>normal</td>\n",
       "    </tr>\n",
       "    <tr>\n",
       "      <th>2</th>\n",
       "      <td>1</td>\n",
       "      <td>37</td>\n",
       "      <td>9.0</td>\n",
       "      <td>8 a 11 anos</td>\n",
       "      <td>2.0</td>\n",
       "      <td>0.0</td>\n",
       "      <td>37 a 41 semanas</td>\n",
       "      <td>Única</td>\n",
       "      <td>4</td>\n",
       "      <td>10.0</td>\n",
       "      <td>normal</td>\n",
       "    </tr>\n",
       "    <tr>\n",
       "      <th>3</th>\n",
       "      <td>1</td>\n",
       "      <td>30</td>\n",
       "      <td>5.0</td>\n",
       "      <td>12 anos ou mais</td>\n",
       "      <td>0.0</td>\n",
       "      <td>0.0</td>\n",
       "      <td>37 a 41 semanas</td>\n",
       "      <td>Única</td>\n",
       "      <td>3</td>\n",
       "      <td>10.0</td>\n",
       "      <td>normal</td>\n",
       "    </tr>\n",
       "    <tr>\n",
       "      <th>4</th>\n",
       "      <td>1</td>\n",
       "      <td>30</td>\n",
       "      <td>2.0</td>\n",
       "      <td>8 a 11 anos</td>\n",
       "      <td>1.0</td>\n",
       "      <td>0.0</td>\n",
       "      <td>37 a 41 semanas</td>\n",
       "      <td>Única</td>\n",
       "      <td>4</td>\n",
       "      <td>10.0</td>\n",
       "      <td>normal</td>\n",
       "    </tr>\n",
       "  </tbody>\n",
       "</table>\n",
       "</div>"
      ],
      "text/plain": [
       "   local_nasc  idade_mae  estado_civil_mae escolaridade_mae  qtd_filho_vivo  \\\n",
       "0           1         19               5.0      8 a 11 anos             0.0   \n",
       "1           1         29               2.0      8 a 11 anos             1.0   \n",
       "2           1         37               9.0      8 a 11 anos             2.0   \n",
       "3           1         30               5.0  12 anos ou mais             0.0   \n",
       "4           1         30               2.0      8 a 11 anos             1.0   \n",
       "\n",
       "   qtd_filho_morto         gestacao gravidez  consultas  apgar5 cat_apgar5  \n",
       "0              0.0  37 a 41 semanas    Única          4    10.0     normal  \n",
       "1              0.0  37 a 41 semanas    Única          4     9.0     normal  \n",
       "2              0.0  37 a 41 semanas    Única          4    10.0     normal  \n",
       "3              0.0  37 a 41 semanas    Única          3    10.0     normal  \n",
       "4              0.0  37 a 41 semanas    Única          4    10.0     normal  "
      ]
     },
     "execution_count": 14,
     "metadata": {},
     "output_type": "execute_result"
    }
   ],
   "source": [
    "sinasc.head(5)"
   ]
  },
  {
   "cell_type": "code",
   "execution_count": null,
   "id": "7fbc2d8a",
   "metadata": {},
   "outputs": [],
   "source": []
  }
 ],
 "metadata": {
  "kernelspec": {
   "display_name": "Python 3 (ipykernel)",
   "language": "python",
   "name": "python3"
  },
  "language_info": {
   "codemirror_mode": {
    "name": "ipython",
    "version": 3
   },
   "file_extension": ".py",
   "mimetype": "text/x-python",
   "name": "python",
   "nbconvert_exporter": "python",
   "pygments_lexer": "ipython3",
   "version": "3.10.9"
  }
 },
 "nbformat": 4,
 "nbformat_minor": 5
}
