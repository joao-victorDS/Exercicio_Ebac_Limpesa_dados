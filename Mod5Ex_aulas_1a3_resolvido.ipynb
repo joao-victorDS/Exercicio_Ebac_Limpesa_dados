{
 "cells": [
  {
   "cell_type": "markdown",
   "id": "620bfc00",
   "metadata": {},
   "source": [
    "# Módulo 5 Tarefa 1\n",
    "## Base de nascidos vivos do DataSUS\n",
    "O DataSUS disponibiliza diversos arquivos de dados com relação a seus segurados, conforme a [lei da transparência de informações públicas](https://www.sisgov.com/transparencia-acesso-informacao/#:~:text=A%20Lei%20da%20Transpar%C3%AAncia%20(LC,em%20um%20site%20na%20internet.). \n",
    "\n",
    "Essas informações podem ser obtidas pela internet [aqui](http://www2.datasus.gov.br/DATASUS/index.php?area=0901&item=1). Como o processo de obtenção desses arquivos foge um pouco do nosso escopo, deixamos o arquivo ```SINASC_RO_2019.csv``` já como vai ser encontrado no DataSUS. O dicionário de dados está no arquivo ```estrutura_sinasc_para_CD.pdf``` (o nome do arquivo tal qual no portal do DataSUS).\n",
    "\n",
    "### Nosso objetivo\n",
    "Queremos deixar uma base organizada para podermos estudar a relação entre partos com risco para o bebê e algumas condições como tempo de parto, consultas de pré-natal etc.\n",
    "\n",
    "#### Preparação da base\n",
    "1. Carregue a base 'SINASC_RO_2019.csv'. Conte o número de registros e o número de registros não duplicados da base. Dica: você aprendeu um método que remove duplicados, encadeie este método com um outro método que conta o número de linhas. **Há linhas duplicadas?**  \n",
    "\n",
    "2. Conte o número de valores *missing* por variável.  \n",
    "\n",
    "3. Ok, no item anterior você deve ter achado pouco prático ler a informação de tantas variáveis, muitas delas nem devem ser interesantes. Então crie uma seleção dessa base somente com as colunas que interessam. São elas:\n",
    "``` \n",
    "['LOCNASC', 'IDADEMAE', 'ESTCIVMAE', 'ESCMAE', 'QTDFILVIVO', \n",
    "    'GESTACAO', 'GRAVIDEZ', 'CONSULTAS', 'APGAR5'] \n",
    "```\n",
    "Refaça a contagem de valores *missings*.  \n",
    "\n",
    "4. Apgar é uma *nota* que o pediatra dá ao bebê quando nasce de acordo com algumas características associadas principalmente à respiração. Apgar 1 e Apgar 5 são as notas 1 e 5 minutos do nascimento. Apgar5 será a nossa variável de interesse principal. Então remova todos os registros com Apgar5 não preenchido. Para esta seleção, conte novamente o número de linhas e o número de *missings*.  \n",
    "\n",
    "5. observe que as variáveis ```['ESTCIVMAE', 'CONSULTAS']``` possuem o código ```9```, que significa *ignorado*. Vamos assumir que o não preenchido é o mesmo que o código ```9```.<br>\n",
    "6. Substitua os valores faltantes da quantitativa (```QTDFILVIVO```) por zero.  \n",
    "7. Das restantes, decida que valore te parece mais adequado (um 'não preenchido' ou um valor 'mais provável' como no item anterior) e preencha. Justifique. Lembre-se de que tratamento de dados é trabalho do cientista, e que estamos tomando decisões a todo o momento - não há necessariamente certo e errado aqui.  \n",
    "8. O Apgar possui uma classificação indicando se o bebê passou por asfixia:\n",
    "- Entre 8 e 10 está em uma faixa 'normal'. \n",
    "- Entre 6 e 7, significa que o recém-nascido passou por 'asfixia leve'. \n",
    "- Entre 4 e 5 significa 'asfixia moderada'.\n",
    "- Entre 0 e 3 significa 'asfixia severa'.  \n",
    "\n",
    "Crie uma categorização dessa variável com essa codificação e calcule as frequências dessa categorização.  \n",
    "<br>\n",
    "9. Renomeie as variáveis para que fiquem no *snake case*, ou seja, em letras minúsculas, com um *underscore* entre as palávras. Dica: repare que se você não quiser criar um *dataframe* novo, você vai precisar usar a opção ```inplace = True```."
   ]
  },
  {
   "cell_type": "code",
   "execution_count": 1,
   "id": "f3767088",
   "metadata": {},
   "outputs": [
    {
     "name": "stdout",
     "output_type": "stream",
     "text": [
      "(27028, 69)\n"
     ]
    },
    {
     "data": {
      "text/plain": [
       "(27028, 69)"
      ]
     },
     "execution_count": 1,
     "metadata": {},
     "output_type": "execute_result"
    }
   ],
   "source": [
    "import pandas as pd\n",
    "import requests\n",
    "\n",
    "# 1) seu código aqui\n",
    "sinasc = pd.read_csv('SINASC_RO_2019.csv')\n",
    "print(sinasc.shape)\n",
    "sinasc.drop_duplicates().shape\n",
    "# Não há duplicados"
   ]
  },
  {
   "cell_type": "code",
   "execution_count": 2,
   "id": "42c01d23",
   "metadata": {},
   "outputs": [
    {
     "data": {
      "text/plain": [
       "ORIGEM          0\n",
       "CODESTAB      115\n",
       "CODMUNNASC      0\n",
       "LOCNASC         0\n",
       "IDADEMAE        0\n",
       "             ... \n",
       "munResUf        0\n",
       "munResLat       1\n",
       "munResLon       1\n",
       "munResAlt       1\n",
       "munResArea      1\n",
       "Length: 69, dtype: int64"
      ]
     },
     "execution_count": 2,
     "metadata": {},
     "output_type": "execute_result"
    }
   ],
   "source": [
    "# 2) seu código aqui\n",
    "\n",
    "\n",
    "# Contando os valores missings com o metodo sum()\n",
    "\n",
    "sinasc.isnull().sum()"
   ]
  },
  {
   "cell_type": "code",
   "execution_count": 3,
   "id": "1fe7e2b7",
   "metadata": {},
   "outputs": [
    {
     "data": {
      "text/plain": [
       "LOCNASC          0\n",
       "IDADEMAE         0\n",
       "ESTCIVMAE      317\n",
       "ESCMAE         312\n",
       "QTDFILVIVO    1573\n",
       "QTDFILMORT    2098\n",
       "GESTACAO      1232\n",
       "GRAVIDEZ        79\n",
       "CONSULTAS        0\n",
       "APGAR5         103\n",
       "dtype: int64"
      ]
     },
     "execution_count": 3,
     "metadata": {},
     "output_type": "execute_result"
    }
   ],
   "source": [
    "# 3) seu código aqui\n",
    "\n",
    "# Filtrando as colunas de interesse e salvando-as no mesmo dataframe\n",
    "\n",
    "sinasc = sinasc[['LOCNASC', 'IDADEMAE', 'ESTCIVMAE', 'ESCMAE', 'QTDFILVIVO', 'QTDFILMORT', 'GESTACAO', 'GRAVIDEZ', 'CONSULTAS', 'APGAR5']]\n",
    "sinasc.isnull().sum()"
   ]
  },
  {
   "cell_type": "code",
   "execution_count": 4,
   "id": "95f14387",
   "metadata": {},
   "outputs": [
    {
     "name": "stdout",
     "output_type": "stream",
     "text": [
      "Antes de dropar os valores:\n",
      "LOCNASC          0\n",
      "IDADEMAE         0\n",
      "ESTCIVMAE      317\n",
      "ESCMAE         312\n",
      "QTDFILVIVO    1573\n",
      "QTDFILMORT    2098\n",
      "GESTACAO      1232\n",
      "GRAVIDEZ        79\n",
      "CONSULTAS        0\n",
      "APGAR5         103\n",
      "dtype: int64\n",
      "27028\n",
      "Depois de dropar os valores:\n",
      "LOCNASC          0\n",
      "IDADEMAE         0\n",
      "ESTCIVMAE      315\n",
      "ESCMAE         310\n",
      "QTDFILVIVO    1566\n",
      "QTDFILMORT    2089\n",
      "GESTACAO      1216\n",
      "GRAVIDEZ        76\n",
      "CONSULTAS        0\n",
      "APGAR5           0\n",
      "dtype: int64\n",
      "26925\n"
     ]
    }
   ],
   "source": [
    "# 4) seu código aqui\n",
    "\n",
    "# Antes dos valores dropados\n",
    "\n",
    "print(f\"Antes de dropar os valores:\\n{sinasc.isnull().sum()}\")\n",
    "print(sinasc.shape[0])\n",
    "\n",
    "# Dropando os valores nulos da variavel \"APGAR5\"\n",
    "\n",
    "sinasc.dropna(subset=\"APGAR5\", inplace=True)\n",
    "\n",
    "# Depois dos valores dropados\n",
    "\n",
    "print(f\"Depois de dropar os valores:\\n{sinasc.isnull().sum()}\")\n",
    "print(sinasc.shape[0])"
   ]
  },
  {
   "cell_type": "code",
   "execution_count": 5,
   "id": "3f36ce47",
   "metadata": {},
   "outputs": [
    {
     "name": "stdout",
     "output_type": "stream",
     "text": [
      "Antes de substituir os valores:\n",
      "315\n",
      "Depois de substituir os valores:\n",
      "0\n"
     ]
    }
   ],
   "source": [
    "# 5) seu código aqui\n",
    "\n",
    "print(f\"Antes de substituir os valores:\\n{sinasc['ESTCIVMAE'].isnull().sum()}\")\n",
    "\n",
    "# Substituindo os valores faltantes da coluna \"ESTCIVMAE\" por 9\n",
    "\n",
    "sinasc[\"ESTCIVMAE\"].fillna(value=9, inplace=True)\n",
    "\n",
    "print(f\"Depois de substituir os valores:\\n{sinasc['ESTCIVMAE'].isnull().sum()}\")"
   ]
  },
  {
   "cell_type": "code",
   "execution_count": 6,
   "id": "7d818e11",
   "metadata": {},
   "outputs": [
    {
     "name": "stdout",
     "output_type": "stream",
     "text": [
      "Antes de substituir os valores:\n",
      "QTDFILVIVO    1566\n",
      "QTDFILMORT    2089\n",
      "dtype: int64\n",
      "Depois de substituir os valores:\n",
      "QTDFILVIVO    0\n",
      "QTDFILMORT    0\n",
      "dtype: int64\n"
     ]
    }
   ],
   "source": [
    "# 6) Seu código aqui\n",
    "\n",
    "print(f\"Antes de substituir os valores:\\n{sinasc[['QTDFILVIVO', 'QTDFILMORT']].isnull().sum()}\")\n",
    "\n",
    "# Substituindo os valores nulos por 0 nas colunas \"QTDFILVIVO\" e \"QTDFILMORT\"\n",
    "\n",
    "sinasc[\"QTDFILVIVO\"].fillna(value=0, inplace=True)\n",
    "sinasc[\"QTDFILMORT\"].fillna(value=0, inplace=True)\n",
    "\n",
    "print(f\"Depois de substituir os valores:\\n{sinasc[['QTDFILVIVO', 'QTDFILMORT']].isnull().sum()}\")"
   ]
  },
  {
   "cell_type": "markdown",
   "id": "e1a358ac",
   "metadata": {},
   "source": [
    "**Os dados faltantes das colunas \"GRAVIDEZ\" e \"ESCMAE\" se traduzem em uma pequena porcentagem em relação ao dadaset, porcentagem essa que se torna insignificante. Com base nisso eles foram alterados para a categoria que mais possui valores. Já a coluna \"GESTACAO\", como significa um montante um pouco maior dos dados, dela foi tirada a média das semanas e arredondado o valor a se adequar as categorias dos dados da coluna**"
   ]
  },
  {
   "cell_type": "code",
   "execution_count": 7,
   "id": "51bb0310",
   "metadata": {},
   "outputs": [
    {
     "name": "stdout",
     "output_type": "stream",
     "text": [
      "0.28\n",
      "1.15\n",
      "4.52\n"
     ]
    }
   ],
   "source": [
    "# 7) seu código aqui\n",
    "\n",
    "# Calcualando a porcentagem de valores nulos sobre o dataframe nas colunas \"GRAVIDEZ\", \"ESCMAE\" e \"GESTACAO\"\n",
    "\n",
    "print(round((sinasc[\"GRAVIDEZ\"].isnull().sum()/sinasc.shape[0])*100, 2))\n",
    "print(round((sinasc[\"ESCMAE\"].isnull().sum()/sinasc.shape[0])*100, 2))\n",
    "print(round((sinasc[\"GESTACAO\"].isnull().sum()/sinasc.shape[0])*100, 2))"
   ]
  },
  {
   "cell_type": "code",
   "execution_count": 8,
   "id": "f49d0ecb",
   "metadata": {},
   "outputs": [],
   "source": [
    "# Substituindo os valors nulos pela categoria mais frequente da coluna\n",
    "\n",
    "sinasc[\"GRAVIDEZ\"].fillna(value=\"Única\", inplace=True)\n",
    "sinasc[\"ESCMAE\"].fillna(value=\"8 a 11 anos\", inplace=True)"
   ]
  },
  {
   "cell_type": "code",
   "execution_count": 9,
   "id": "7870217a",
   "metadata": {},
   "outputs": [
    {
     "data": {
      "text/plain": [
       "32.0"
      ]
     },
     "execution_count": 9,
     "metadata": {},
     "output_type": "execute_result"
    }
   ],
   "source": [
    "# Calculando a média das semanas\n",
    "\n",
    "round((((22+27)/2) + ((28+31)/2) + ((32+36)/2) + ((37+41)/2) + 42 + 22)/6, 0)"
   ]
  },
  {
   "cell_type": "code",
   "execution_count": 10,
   "id": "c3008a3c",
   "metadata": {},
   "outputs": [
    {
     "data": {
      "text/plain": [
       "LOCNASC       0\n",
       "IDADEMAE      0\n",
       "ESTCIVMAE     0\n",
       "ESCMAE        0\n",
       "QTDFILVIVO    0\n",
       "QTDFILMORT    0\n",
       "GESTACAO      0\n",
       "GRAVIDEZ      0\n",
       "CONSULTAS     0\n",
       "APGAR5        0\n",
       "dtype: int64"
      ]
     },
     "execution_count": 10,
     "metadata": {},
     "output_type": "execute_result"
    }
   ],
   "source": [
    "# Substituindo os valores nulos pela categoria da média das semanas\n",
    "\n",
    "sinasc[\"GESTACAO\"].fillna(value=\"32 a 36 semanas\", inplace=True)\n",
    "sinasc.isnull().sum()"
   ]
  },
  {
   "cell_type": "code",
   "execution_count": 11,
   "id": "9788ddd1",
   "metadata": {},
   "outputs": [],
   "source": [
    "# 8) seu código aqui\n",
    "\n",
    "# Criando uma nova coluna e suas respectivas categorias no dataframe\n",
    "\n",
    "sinasc.loc[(sinasc[\"APGAR5\"] >= 8), \"CAT_APGAR5\"] = \"normal\"\n",
    "sinasc.loc[(sinasc[\"APGAR5\"] <= 7) & (sinasc[\"APGAR5\"] >= 6), \"CAT_APGAR5\"] = \"asfixia leve\"\n",
    "sinasc.loc[(sinasc[\"APGAR5\"] <= 5) & (sinasc[\"APGAR5\"] >= 4), \"CAT_APGAR5\"] = \"asfixia moderada\"\n",
    "sinasc.loc[(sinasc[\"APGAR5\"] <= 3), \"CAT_APGAR5\"] = \"asfixia severa\""
   ]
  },
  {
   "cell_type": "code",
   "execution_count": 12,
   "id": "2f771737",
   "metadata": {},
   "outputs": [
    {
     "data": {
      "text/plain": [
       "normal              26463\n",
       "asfixia leve          320\n",
       "asfixia severa         74\n",
       "asfixia moderada       68\n",
       "Name: CAT_APGAR5, dtype: int64"
      ]
     },
     "execution_count": 12,
     "metadata": {},
     "output_type": "execute_result"
    }
   ],
   "source": [
    "sinasc[\"CAT_APGAR5\"].value_counts()"
   ]
  },
  {
   "cell_type": "code",
   "execution_count": 13,
   "id": "3235a2ea",
   "metadata": {},
   "outputs": [],
   "source": [
    "# 9) seu código aqui\n",
    "\n",
    "sinasc.columns = [\"local_nasc\", \"idade_mae\", \"estado_civil_mae\", \"escolaridade_mae\", \"qtd_filho_vivo\", \"qtd_filho_morto\", \"gestacao\", \"gravidez\", \"consultas\", \"apgar5\", \"cat_apgar5\"]"
   ]
  },
  {
   "cell_type": "code",
   "execution_count": 14,
   "id": "1c5fe744",
   "metadata": {},
   "outputs": [
    {
     "data": {
      "text/html": [
       "<div>\n",
       "<style scoped>\n",
       "    .dataframe tbody tr th:only-of-type {\n",
       "        vertical-align: middle;\n",
       "    }\n",
       "\n",
       "    .dataframe tbody tr th {\n",
       "        vertical-align: top;\n",
       "    }\n",
       "\n",
       "    .dataframe thead th {\n",
       "        text-align: right;\n",
       "    }\n",
       "</style>\n",
       "<table border=\"1\" class=\"dataframe\">\n",
       "  <thead>\n",
       "    <tr style=\"text-align: right;\">\n",
       "      <th></th>\n",
       "      <th>local_nasc</th>\n",
       "      <th>idade_mae</th>\n",
       "      <th>estado_civil_mae</th>\n",
       "      <th>escolaridade_mae</th>\n",
       "      <th>qtd_filho_vivo</th>\n",
       "      <th>qtd_filho_morto</th>\n",
       "      <th>gestacao</th>\n",
       "      <th>gravidez</th>\n",
       "      <th>consultas</th>\n",
       "      <th>apgar5</th>\n",
       "      <th>cat_apgar5</th>\n",
       "    </tr>\n",
       "  </thead>\n",
       "  <tbody>\n",
       "    <tr>\n",
       "      <th>0</th>\n",
       "      <td>1</td>\n",
       "      <td>19</td>\n",
       "      <td>5.0</td>\n",
       "      <td>8 a 11 anos</td>\n",
       "      <td>0.0</td>\n",
       "      <td>0.0</td>\n",
       "      <td>37 a 41 semanas</td>\n",
       "      <td>Única</td>\n",
       "      <td>4</td>\n",
       "      <td>10.0</td>\n",
       "      <td>normal</td>\n",
       "    </tr>\n",
       "    <tr>\n",
       "      <th>1</th>\n",
       "      <td>1</td>\n",
       "      <td>29</td>\n",
       "      <td>2.0</td>\n",
       "      <td>8 a 11 anos</td>\n",
       "      <td>1.0</td>\n",
       "      <td>0.0</td>\n",
       "      <td>37 a 41 semanas</td>\n",
       "      <td>Única</td>\n",
       "      <td>4</td>\n",
       "      <td>9.0</td>\n",
       "      <td>normal</td>\n",
       "    </tr>\n",
       "    <tr>\n",
       "      <th>2</th>\n",
       "      <td>1</td>\n",
       "      <td>37</td>\n",
       "      <td>9.0</td>\n",
       "      <td>8 a 11 anos</td>\n",
       "      <td>2.0</td>\n",
       "      <td>0.0</td>\n",
       "      <td>37 a 41 semanas</td>\n",
       "      <td>Única</td>\n",
       "      <td>4</td>\n",
       "      <td>10.0</td>\n",
       "      <td>normal</td>\n",
       "    </tr>\n",
       "    <tr>\n",
       "      <th>3</th>\n",
       "      <td>1</td>\n",
       "      <td>30</td>\n",
       "      <td>5.0</td>\n",
       "      <td>12 anos ou mais</td>\n",
       "      <td>0.0</td>\n",
       "      <td>0.0</td>\n",
       "      <td>37 a 41 semanas</td>\n",
       "      <td>Única</td>\n",
       "      <td>3</td>\n",
       "      <td>10.0</td>\n",
       "      <td>normal</td>\n",
       "    </tr>\n",
       "    <tr>\n",
       "      <th>4</th>\n",
       "      <td>1</td>\n",
       "      <td>30</td>\n",
       "      <td>2.0</td>\n",
       "      <td>8 a 11 anos</td>\n",
       "      <td>1.0</td>\n",
       "      <td>0.0</td>\n",
       "      <td>37 a 41 semanas</td>\n",
       "      <td>Única</td>\n",
       "      <td>4</td>\n",
       "      <td>10.0</td>\n",
       "      <td>normal</td>\n",
       "    </tr>\n",
       "  </tbody>\n",
       "</table>\n",
       "</div>"
      ],
      "text/plain": [
       "   local_nasc  idade_mae  estado_civil_mae escolaridade_mae  qtd_filho_vivo  \\\n",
       "0           1         19               5.0      8 a 11 anos             0.0   \n",
       "1           1         29               2.0      8 a 11 anos             1.0   \n",
       "2           1         37               9.0      8 a 11 anos             2.0   \n",
       "3           1         30               5.0  12 anos ou mais             0.0   \n",
       "4           1         30               2.0      8 a 11 anos             1.0   \n",
       "\n",
       "   qtd_filho_morto         gestacao gravidez  consultas  apgar5 cat_apgar5  \n",
       "0              0.0  37 a 41 semanas    Única          4    10.0     normal  \n",
       "1              0.0  37 a 41 semanas    Única          4     9.0     normal  \n",
       "2              0.0  37 a 41 semanas    Única          4    10.0     normal  \n",
       "3              0.0  37 a 41 semanas    Única          3    10.0     normal  \n",
       "4              0.0  37 a 41 semanas    Única          4    10.0     normal  "
      ]
     },
     "execution_count": 14,
     "metadata": {},
     "output_type": "execute_result"
    }
   ],
   "source": [
    "sinasc.head(5)"
   ]
  },
  {
   "cell_type": "code",
   "execution_count": null,
   "id": "9422130f",
   "metadata": {},
   "outputs": [],
   "source": []
  }
 ],
 "metadata": {
  "kernelspec": {
   "display_name": "Python 3 (ipykernel)",
   "language": "python",
   "name": "python3"
  },
  "language_info": {
   "codemirror_mode": {
    "name": "ipython",
    "version": 3
   },
   "file_extension": ".py",
   "mimetype": "text/x-python",
   "name": "python",
   "nbconvert_exporter": "python",
   "pygments_lexer": "ipython3",
   "version": "3.10.9"
  }
 },
 "nbformat": 4,
 "nbformat_minor": 5
}
